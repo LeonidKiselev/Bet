{
  "nbformat": 4,
  "nbformat_minor": 0,
  "metadata": {
    "colab": {
      "provenance": []
    },
    "kernelspec": {
      "name": "python3",
      "display_name": "Python 3"
    },
    "language_info": {
      "name": "python"
    }
  },
  "cells": [
    {
      "cell_type": "code",
      "source": [
        "import numpy as np\n",
        "import pandas as pd"
      ],
      "metadata": {
        "id": "h4wO-yggy7kK"
      },
      "execution_count": 1,
      "outputs": []
    },
    {
      "cell_type": "code",
      "source": [
        "pd.set_option('display.max_columns', None)"
      ],
      "metadata": {
        "id": "Mt8Z7gaXy9YU"
      },
      "execution_count": 2,
      "outputs": []
    },
    {
      "cell_type": "markdown",
      "source": [
        "Overview data."
      ],
      "metadata": {
        "id": "QhSzoLP7y_A0"
      }
    },
    {
      "cell_type": "code",
      "source": [
        "data = pd.read_csv('Octoparse_match_url.csv')"
      ],
      "metadata": {
        "id": "n_yhBSUhzBCz"
      },
      "execution_count": 3,
      "outputs": []
    },
    {
      "cell_type": "code",
      "source": [
        "data.head()"
      ],
      "metadata": {
        "colab": {
          "base_uri": "https://localhost:8080/",
          "height": 399
        },
        "id": "RT_bIVNgzH_n",
        "outputId": "b514d7b0-8d11-4856-f81e-8af476b3fec1"
      },
      "execution_count": 4,
      "outputs": [
        {
          "output_type": "execute_result",
          "data": {
            "text/plain": [
              "                  Title                                          Title_URL  \\\n",
              "0  West Bromwich Albion  https://1xbet.whoscored.com/Teams/175/Show/Eng...   \n",
              "1  West Bromwich Albion  https://1xbet.whoscored.com/Teams/175/Show/Eng...   \n",
              "2  West Bromwich Albion  https://1xbet.whoscored.com/Teams/175/Show/Eng...   \n",
              "3  West Bromwich Albion  https://1xbet.whoscored.com/Teams/175/Show/Eng...   \n",
              "4  West Bromwich Albion  https://1xbet.whoscored.com/Teams/175/Show/Eng...   \n",
              "\n",
              "    Time Status                                        result1_URL result1  \\\n",
              "0  20:00     FT  https://1xbet.whoscored.com/Matches/829783/Liv...   3 : 0   \n",
              "1  20:00     FT  https://1xbet.whoscored.com/Matches/829783/Liv...   3 : 0   \n",
              "2  20:00     FT  https://1xbet.whoscored.com/Matches/829783/Liv...   3 : 0   \n",
              "3  20:00     FT  https://1xbet.whoscored.com/Matches/829783/Liv...   3 : 0   \n",
              "4  20:00     FT  https://1xbet.whoscored.com/Matches/829783/Liv...   3 : 0   \n",
              "\n",
              "                                        col12lg3_URL col12lg3  \\\n",
              "0  https://1xbet.whoscored.com/Teams/15/Show/Engl...  Chelsea   \n",
              "1  https://1xbet.whoscored.com/Teams/15/Show/Engl...  Chelsea   \n",
              "2  https://1xbet.whoscored.com/Teams/15/Show/Engl...  Chelsea   \n",
              "3  https://1xbet.whoscored.com/Teams/15/Show/Engl...  Chelsea   \n",
              "4  https://1xbet.whoscored.com/Teams/15/Show/Engl...  Chelsea   \n",
              "\n",
              "                                       matchlink_URL     matchlink  \\\n",
              "0  https://1xbet.whoscored.com/Matches/829783/Mat...  Match Report   \n",
              "1  https://1xbet.whoscored.com/Matches/829783/Mat...  Match Report   \n",
              "2  https://1xbet.whoscored.com/Matches/829783/Mat...  Match Report   \n",
              "3  https://1xbet.whoscored.com/Matches/829783/Mat...  Match Report   \n",
              "4  https://1xbet.whoscored.com/Matches/829783/Mat...  Match Report   \n",
              "\n",
              "                 Title1                                         Title_URL1  \\\n",
              "0  West Bromwich Albion  https://1xbet.whoscored.com/Teams/175/Show/Eng...   \n",
              "1                   NaN                                                NaN   \n",
              "2                   NaN                                                NaN   \n",
              "3               Chelsea  https://1xbet.whoscored.com/Teams/15/Show/Engl...   \n",
              "4        Crystal Palace  https://1xbet.whoscored.com/Teams/162/Show/Eng...   \n",
              "\n",
              "   Time1 Status1                                       result1_URL1 resul1  \\\n",
              "0  20:00      FT  https://1xbet.whoscored.com/Matches/829783/Liv...  3 : 0   \n",
              "1  19:45      FT  https://1xbet.whoscored.com/Matches/829805/Liv...  0 : 0   \n",
              "2  15:00      FT  https://1xbet.whoscored.com/Matches/829807/Liv...  0 : 1   \n",
              "3  15:00      FT  https://1xbet.whoscored.com/Matches/829815/Liv...  3 : 1   \n",
              "4  15:00      FT  https://1xbet.whoscored.com/Matches/829823/Liv...  1 : 0   \n",
              "\n",
              "                                       col12lg3_URL1     col12l1  \\\n",
              "0  https://1xbet.whoscored.com/Teams/15/Show/Engl...     Chelsea   \n",
              "1  https://1xbet.whoscored.com/Teams/16/Show/Engl...  Sunderland   \n",
              "2                                                NaN         NaN   \n",
              "3  https://1xbet.whoscored.com/Teams/16/Show/Engl...  Sunderland   \n",
              "4  https://1xbet.whoscored.com/Teams/259/Show/Wal...     Swansea   \n",
              "\n",
              "                                      matchlink_URL1    matchlink1  \n",
              "0  https://1xbet.whoscored.com/Matches/829783/Mat...  Match Report  \n",
              "1  https://1xbet.whoscored.com/Matches/829805/Mat...  Match Report  \n",
              "2  https://1xbet.whoscored.com/Matches/829807/Mat...  Match Report  \n",
              "3  https://1xbet.whoscored.com/Matches/829815/Mat...  Match Report  \n",
              "4  https://1xbet.whoscored.com/Matches/829823/Mat...  Match Report  "
            ],
            "text/html": [
              "\n",
              "  <div id=\"df-e6b873fa-84e0-42ff-81f4-2438cecf77c5\" class=\"colab-df-container\">\n",
              "    <div>\n",
              "<style scoped>\n",
              "    .dataframe tbody tr th:only-of-type {\n",
              "        vertical-align: middle;\n",
              "    }\n",
              "\n",
              "    .dataframe tbody tr th {\n",
              "        vertical-align: top;\n",
              "    }\n",
              "\n",
              "    .dataframe thead th {\n",
              "        text-align: right;\n",
              "    }\n",
              "</style>\n",
              "<table border=\"1\" class=\"dataframe\">\n",
              "  <thead>\n",
              "    <tr style=\"text-align: right;\">\n",
              "      <th></th>\n",
              "      <th>Title</th>\n",
              "      <th>Title_URL</th>\n",
              "      <th>Time</th>\n",
              "      <th>Status</th>\n",
              "      <th>result1_URL</th>\n",
              "      <th>result1</th>\n",
              "      <th>col12lg3_URL</th>\n",
              "      <th>col12lg3</th>\n",
              "      <th>matchlink_URL</th>\n",
              "      <th>matchlink</th>\n",
              "      <th>Title1</th>\n",
              "      <th>Title_URL1</th>\n",
              "      <th>Time1</th>\n",
              "      <th>Status1</th>\n",
              "      <th>result1_URL1</th>\n",
              "      <th>resul1</th>\n",
              "      <th>col12lg3_URL1</th>\n",
              "      <th>col12l1</th>\n",
              "      <th>matchlink_URL1</th>\n",
              "      <th>matchlink1</th>\n",
              "    </tr>\n",
              "  </thead>\n",
              "  <tbody>\n",
              "    <tr>\n",
              "      <th>0</th>\n",
              "      <td>West Bromwich Albion</td>\n",
              "      <td>https://1xbet.whoscored.com/Teams/175/Show/Eng...</td>\n",
              "      <td>20:00</td>\n",
              "      <td>FT</td>\n",
              "      <td>https://1xbet.whoscored.com/Matches/829783/Liv...</td>\n",
              "      <td>3 : 0</td>\n",
              "      <td>https://1xbet.whoscored.com/Teams/15/Show/Engl...</td>\n",
              "      <td>Chelsea</td>\n",
              "      <td>https://1xbet.whoscored.com/Matches/829783/Mat...</td>\n",
              "      <td>Match Report</td>\n",
              "      <td>West Bromwich Albion</td>\n",
              "      <td>https://1xbet.whoscored.com/Teams/175/Show/Eng...</td>\n",
              "      <td>20:00</td>\n",
              "      <td>FT</td>\n",
              "      <td>https://1xbet.whoscored.com/Matches/829783/Liv...</td>\n",
              "      <td>3 : 0</td>\n",
              "      <td>https://1xbet.whoscored.com/Teams/15/Show/Engl...</td>\n",
              "      <td>Chelsea</td>\n",
              "      <td>https://1xbet.whoscored.com/Matches/829783/Mat...</td>\n",
              "      <td>Match Report</td>\n",
              "    </tr>\n",
              "    <tr>\n",
              "      <th>1</th>\n",
              "      <td>West Bromwich Albion</td>\n",
              "      <td>https://1xbet.whoscored.com/Teams/175/Show/Eng...</td>\n",
              "      <td>20:00</td>\n",
              "      <td>FT</td>\n",
              "      <td>https://1xbet.whoscored.com/Matches/829783/Liv...</td>\n",
              "      <td>3 : 0</td>\n",
              "      <td>https://1xbet.whoscored.com/Teams/15/Show/Engl...</td>\n",
              "      <td>Chelsea</td>\n",
              "      <td>https://1xbet.whoscored.com/Matches/829783/Mat...</td>\n",
              "      <td>Match Report</td>\n",
              "      <td>NaN</td>\n",
              "      <td>NaN</td>\n",
              "      <td>19:45</td>\n",
              "      <td>FT</td>\n",
              "      <td>https://1xbet.whoscored.com/Matches/829805/Liv...</td>\n",
              "      <td>0 : 0</td>\n",
              "      <td>https://1xbet.whoscored.com/Teams/16/Show/Engl...</td>\n",
              "      <td>Sunderland</td>\n",
              "      <td>https://1xbet.whoscored.com/Matches/829805/Mat...</td>\n",
              "      <td>Match Report</td>\n",
              "    </tr>\n",
              "    <tr>\n",
              "      <th>2</th>\n",
              "      <td>West Bromwich Albion</td>\n",
              "      <td>https://1xbet.whoscored.com/Teams/175/Show/Eng...</td>\n",
              "      <td>20:00</td>\n",
              "      <td>FT</td>\n",
              "      <td>https://1xbet.whoscored.com/Matches/829783/Liv...</td>\n",
              "      <td>3 : 0</td>\n",
              "      <td>https://1xbet.whoscored.com/Teams/15/Show/Engl...</td>\n",
              "      <td>Chelsea</td>\n",
              "      <td>https://1xbet.whoscored.com/Matches/829783/Mat...</td>\n",
              "      <td>Match Report</td>\n",
              "      <td>NaN</td>\n",
              "      <td>NaN</td>\n",
              "      <td>15:00</td>\n",
              "      <td>FT</td>\n",
              "      <td>https://1xbet.whoscored.com/Matches/829807/Liv...</td>\n",
              "      <td>0 : 1</td>\n",
              "      <td>NaN</td>\n",
              "      <td>NaN</td>\n",
              "      <td>https://1xbet.whoscored.com/Matches/829807/Mat...</td>\n",
              "      <td>Match Report</td>\n",
              "    </tr>\n",
              "    <tr>\n",
              "      <th>3</th>\n",
              "      <td>West Bromwich Albion</td>\n",
              "      <td>https://1xbet.whoscored.com/Teams/175/Show/Eng...</td>\n",
              "      <td>20:00</td>\n",
              "      <td>FT</td>\n",
              "      <td>https://1xbet.whoscored.com/Matches/829783/Liv...</td>\n",
              "      <td>3 : 0</td>\n",
              "      <td>https://1xbet.whoscored.com/Teams/15/Show/Engl...</td>\n",
              "      <td>Chelsea</td>\n",
              "      <td>https://1xbet.whoscored.com/Matches/829783/Mat...</td>\n",
              "      <td>Match Report</td>\n",
              "      <td>Chelsea</td>\n",
              "      <td>https://1xbet.whoscored.com/Teams/15/Show/Engl...</td>\n",
              "      <td>15:00</td>\n",
              "      <td>FT</td>\n",
              "      <td>https://1xbet.whoscored.com/Matches/829815/Liv...</td>\n",
              "      <td>3 : 1</td>\n",
              "      <td>https://1xbet.whoscored.com/Teams/16/Show/Engl...</td>\n",
              "      <td>Sunderland</td>\n",
              "      <td>https://1xbet.whoscored.com/Matches/829815/Mat...</td>\n",
              "      <td>Match Report</td>\n",
              "    </tr>\n",
              "    <tr>\n",
              "      <th>4</th>\n",
              "      <td>West Bromwich Albion</td>\n",
              "      <td>https://1xbet.whoscored.com/Teams/175/Show/Eng...</td>\n",
              "      <td>20:00</td>\n",
              "      <td>FT</td>\n",
              "      <td>https://1xbet.whoscored.com/Matches/829783/Liv...</td>\n",
              "      <td>3 : 0</td>\n",
              "      <td>https://1xbet.whoscored.com/Teams/15/Show/Engl...</td>\n",
              "      <td>Chelsea</td>\n",
              "      <td>https://1xbet.whoscored.com/Matches/829783/Mat...</td>\n",
              "      <td>Match Report</td>\n",
              "      <td>Crystal Palace</td>\n",
              "      <td>https://1xbet.whoscored.com/Teams/162/Show/Eng...</td>\n",
              "      <td>15:00</td>\n",
              "      <td>FT</td>\n",
              "      <td>https://1xbet.whoscored.com/Matches/829823/Liv...</td>\n",
              "      <td>1 : 0</td>\n",
              "      <td>https://1xbet.whoscored.com/Teams/259/Show/Wal...</td>\n",
              "      <td>Swansea</td>\n",
              "      <td>https://1xbet.whoscored.com/Matches/829823/Mat...</td>\n",
              "      <td>Match Report</td>\n",
              "    </tr>\n",
              "  </tbody>\n",
              "</table>\n",
              "</div>\n",
              "    <div class=\"colab-df-buttons\">\n",
              "\n",
              "  <div class=\"colab-df-container\">\n",
              "    <button class=\"colab-df-convert\" onclick=\"convertToInteractive('df-e6b873fa-84e0-42ff-81f4-2438cecf77c5')\"\n",
              "            title=\"Convert this dataframe to an interactive table.\"\n",
              "            style=\"display:none;\">\n",
              "\n",
              "  <svg xmlns=\"http://www.w3.org/2000/svg\" height=\"24px\" viewBox=\"0 -960 960 960\">\n",
              "    <path d=\"M120-120v-720h720v720H120Zm60-500h600v-160H180v160Zm220 220h160v-160H400v160Zm0 220h160v-160H400v160ZM180-400h160v-160H180v160Zm440 0h160v-160H620v160ZM180-180h160v-160H180v160Zm440 0h160v-160H620v160Z\"/>\n",
              "  </svg>\n",
              "    </button>\n",
              "\n",
              "  <style>\n",
              "    .colab-df-container {\n",
              "      display:flex;\n",
              "      gap: 12px;\n",
              "    }\n",
              "\n",
              "    .colab-df-convert {\n",
              "      background-color: #E8F0FE;\n",
              "      border: none;\n",
              "      border-radius: 50%;\n",
              "      cursor: pointer;\n",
              "      display: none;\n",
              "      fill: #1967D2;\n",
              "      height: 32px;\n",
              "      padding: 0 0 0 0;\n",
              "      width: 32px;\n",
              "    }\n",
              "\n",
              "    .colab-df-convert:hover {\n",
              "      background-color: #E2EBFA;\n",
              "      box-shadow: 0px 1px 2px rgba(60, 64, 67, 0.3), 0px 1px 3px 1px rgba(60, 64, 67, 0.15);\n",
              "      fill: #174EA6;\n",
              "    }\n",
              "\n",
              "    .colab-df-buttons div {\n",
              "      margin-bottom: 4px;\n",
              "    }\n",
              "\n",
              "    [theme=dark] .colab-df-convert {\n",
              "      background-color: #3B4455;\n",
              "      fill: #D2E3FC;\n",
              "    }\n",
              "\n",
              "    [theme=dark] .colab-df-convert:hover {\n",
              "      background-color: #434B5C;\n",
              "      box-shadow: 0px 1px 3px 1px rgba(0, 0, 0, 0.15);\n",
              "      filter: drop-shadow(0px 1px 2px rgba(0, 0, 0, 0.3));\n",
              "      fill: #FFFFFF;\n",
              "    }\n",
              "  </style>\n",
              "\n",
              "    <script>\n",
              "      const buttonEl =\n",
              "        document.querySelector('#df-e6b873fa-84e0-42ff-81f4-2438cecf77c5 button.colab-df-convert');\n",
              "      buttonEl.style.display =\n",
              "        google.colab.kernel.accessAllowed ? 'block' : 'none';\n",
              "\n",
              "      async function convertToInteractive(key) {\n",
              "        const element = document.querySelector('#df-e6b873fa-84e0-42ff-81f4-2438cecf77c5');\n",
              "        const dataTable =\n",
              "          await google.colab.kernel.invokeFunction('convertToInteractive',\n",
              "                                                    [key], {});\n",
              "        if (!dataTable) return;\n",
              "\n",
              "        const docLinkHtml = 'Like what you see? Visit the ' +\n",
              "          '<a target=\"_blank\" href=https://colab.research.google.com/notebooks/data_table.ipynb>data table notebook</a>'\n",
              "          + ' to learn more about interactive tables.';\n",
              "        element.innerHTML = '';\n",
              "        dataTable['output_type'] = 'display_data';\n",
              "        await google.colab.output.renderOutput(dataTable, element);\n",
              "        const docLink = document.createElement('div');\n",
              "        docLink.innerHTML = docLinkHtml;\n",
              "        element.appendChild(docLink);\n",
              "      }\n",
              "    </script>\n",
              "  </div>\n",
              "\n",
              "\n",
              "<div id=\"df-085e52fd-8adc-4b32-85ce-2cbaea6551f8\">\n",
              "  <button class=\"colab-df-quickchart\" onclick=\"quickchart('df-085e52fd-8adc-4b32-85ce-2cbaea6551f8')\"\n",
              "            title=\"Suggest charts\"\n",
              "            style=\"display:none;\">\n",
              "\n",
              "<svg xmlns=\"http://www.w3.org/2000/svg\" height=\"24px\"viewBox=\"0 0 24 24\"\n",
              "     width=\"24px\">\n",
              "    <g>\n",
              "        <path d=\"M19 3H5c-1.1 0-2 .9-2 2v14c0 1.1.9 2 2 2h14c1.1 0 2-.9 2-2V5c0-1.1-.9-2-2-2zM9 17H7v-7h2v7zm4 0h-2V7h2v10zm4 0h-2v-4h2v4z\"/>\n",
              "    </g>\n",
              "</svg>\n",
              "  </button>\n",
              "\n",
              "<style>\n",
              "  .colab-df-quickchart {\n",
              "      --bg-color: #E8F0FE;\n",
              "      --fill-color: #1967D2;\n",
              "      --hover-bg-color: #E2EBFA;\n",
              "      --hover-fill-color: #174EA6;\n",
              "      --disabled-fill-color: #AAA;\n",
              "      --disabled-bg-color: #DDD;\n",
              "  }\n",
              "\n",
              "  [theme=dark] .colab-df-quickchart {\n",
              "      --bg-color: #3B4455;\n",
              "      --fill-color: #D2E3FC;\n",
              "      --hover-bg-color: #434B5C;\n",
              "      --hover-fill-color: #FFFFFF;\n",
              "      --disabled-bg-color: #3B4455;\n",
              "      --disabled-fill-color: #666;\n",
              "  }\n",
              "\n",
              "  .colab-df-quickchart {\n",
              "    background-color: var(--bg-color);\n",
              "    border: none;\n",
              "    border-radius: 50%;\n",
              "    cursor: pointer;\n",
              "    display: none;\n",
              "    fill: var(--fill-color);\n",
              "    height: 32px;\n",
              "    padding: 0;\n",
              "    width: 32px;\n",
              "  }\n",
              "\n",
              "  .colab-df-quickchart:hover {\n",
              "    background-color: var(--hover-bg-color);\n",
              "    box-shadow: 0 1px 2px rgba(60, 64, 67, 0.3), 0 1px 3px 1px rgba(60, 64, 67, 0.15);\n",
              "    fill: var(--button-hover-fill-color);\n",
              "  }\n",
              "\n",
              "  .colab-df-quickchart-complete:disabled,\n",
              "  .colab-df-quickchart-complete:disabled:hover {\n",
              "    background-color: var(--disabled-bg-color);\n",
              "    fill: var(--disabled-fill-color);\n",
              "    box-shadow: none;\n",
              "  }\n",
              "\n",
              "  .colab-df-spinner {\n",
              "    border: 2px solid var(--fill-color);\n",
              "    border-color: transparent;\n",
              "    border-bottom-color: var(--fill-color);\n",
              "    animation:\n",
              "      spin 1s steps(1) infinite;\n",
              "  }\n",
              "\n",
              "  @keyframes spin {\n",
              "    0% {\n",
              "      border-color: transparent;\n",
              "      border-bottom-color: var(--fill-color);\n",
              "      border-left-color: var(--fill-color);\n",
              "    }\n",
              "    20% {\n",
              "      border-color: transparent;\n",
              "      border-left-color: var(--fill-color);\n",
              "      border-top-color: var(--fill-color);\n",
              "    }\n",
              "    30% {\n",
              "      border-color: transparent;\n",
              "      border-left-color: var(--fill-color);\n",
              "      border-top-color: var(--fill-color);\n",
              "      border-right-color: var(--fill-color);\n",
              "    }\n",
              "    40% {\n",
              "      border-color: transparent;\n",
              "      border-right-color: var(--fill-color);\n",
              "      border-top-color: var(--fill-color);\n",
              "    }\n",
              "    60% {\n",
              "      border-color: transparent;\n",
              "      border-right-color: var(--fill-color);\n",
              "    }\n",
              "    80% {\n",
              "      border-color: transparent;\n",
              "      border-right-color: var(--fill-color);\n",
              "      border-bottom-color: var(--fill-color);\n",
              "    }\n",
              "    90% {\n",
              "      border-color: transparent;\n",
              "      border-bottom-color: var(--fill-color);\n",
              "    }\n",
              "  }\n",
              "</style>\n",
              "\n",
              "  <script>\n",
              "    async function quickchart(key) {\n",
              "      const quickchartButtonEl =\n",
              "        document.querySelector('#' + key + ' button');\n",
              "      quickchartButtonEl.disabled = true;  // To prevent multiple clicks.\n",
              "      quickchartButtonEl.classList.add('colab-df-spinner');\n",
              "      try {\n",
              "        const charts = await google.colab.kernel.invokeFunction(\n",
              "            'suggestCharts', [key], {});\n",
              "      } catch (error) {\n",
              "        console.error('Error during call to suggestCharts:', error);\n",
              "      }\n",
              "      quickchartButtonEl.classList.remove('colab-df-spinner');\n",
              "      quickchartButtonEl.classList.add('colab-df-quickchart-complete');\n",
              "    }\n",
              "    (() => {\n",
              "      let quickchartButtonEl =\n",
              "        document.querySelector('#df-085e52fd-8adc-4b32-85ce-2cbaea6551f8 button');\n",
              "      quickchartButtonEl.style.display =\n",
              "        google.colab.kernel.accessAllowed ? 'block' : 'none';\n",
              "    })();\n",
              "  </script>\n",
              "</div>\n",
              "    </div>\n",
              "  </div>\n"
            ]
          },
          "metadata": {},
          "execution_count": 4
        }
      ]
    },
    {
      "cell_type": "code",
      "source": [
        "print(data.iloc[0]['result1_URL'])\n",
        "print(data.iloc[0]['matchlink_URL'])\n",
        "print(data.iloc[0]['result1_URL1'])\n",
        "print(data.iloc[0]['matchlink_URL1'])"
      ],
      "metadata": {
        "colab": {
          "base_uri": "https://localhost:8080/"
        },
        "id": "j3bZ1URYzVME",
        "outputId": "75a6285a-80e6-4110-a6ab-6c3dcca9a97d"
      },
      "execution_count": 5,
      "outputs": [
        {
          "output_type": "stream",
          "name": "stdout",
          "text": [
            "https://1xbet.whoscored.com/Matches/829783/Live/England-Premier-League-2014-2015-West-Bromwich-Albion-Chelsea\n",
            "https://1xbet.whoscored.com/Matches/829783/MatchReport/England-Premier-League-2014-2015-West-Bromwich-Albion-Chelsea\n",
            "https://1xbet.whoscored.com/Matches/829783/Live/England-Premier-League-2014-2015-West-Bromwich-Albion-Chelsea\n",
            "https://1xbet.whoscored.com/Matches/829783/MatchReport/England-Premier-League-2014-2015-West-Bromwich-Albion-Chelsea\n"
          ]
        }
      ]
    },
    {
      "cell_type": "code",
      "source": [
        "links = list(data['matchlink_URL1'].unique())"
      ],
      "metadata": {
        "id": "0LdAFNjg0AY5"
      },
      "execution_count": 6,
      "outputs": []
    },
    {
      "cell_type": "code",
      "source": [
        "len(links)"
      ],
      "metadata": {
        "colab": {
          "base_uri": "https://localhost:8080/"
        },
        "id": "kIx8uGPM0Gay",
        "outputId": "e8d356d1-87d2-4975-d711-cae96f48f013"
      },
      "execution_count": 7,
      "outputs": [
        {
          "output_type": "execute_result",
          "data": {
            "text/plain": [
              "15954"
            ]
          },
          "metadata": {},
          "execution_count": 7
        }
      ]
    },
    {
      "cell_type": "code",
      "source": [
        "links = [link for link in links if isinstance(link, str)]"
      ],
      "metadata": {
        "id": "t4LLwTb11um2"
      },
      "execution_count": 8,
      "outputs": []
    },
    {
      "cell_type": "code",
      "source": [
        "len(links)"
      ],
      "metadata": {
        "colab": {
          "base_uri": "https://localhost:8080/"
        },
        "id": "ebKdR4n31z48",
        "outputId": "8b14e5f9-27f4-497f-a7b7-796812572ef9"
      },
      "execution_count": 9,
      "outputs": [
        {
          "output_type": "execute_result",
          "data": {
            "text/plain": [
              "15953"
            ]
          },
          "metadata": {},
          "execution_count": 9
        }
      ]
    },
    {
      "cell_type": "code",
      "source": [
        "leagues = [\n",
        "    'England-Premier-League',\n",
        "    'Spain-LaLiga',\n",
        "    'Italy-Serie-A',\n",
        "    'Germany-Bundesliga',\n",
        "    'France-Ligue-1'\n",
        "]"
      ],
      "metadata": {
        "id": "pnwJgZOS0gO5"
      },
      "execution_count": 10,
      "outputs": []
    },
    {
      "cell_type": "code",
      "source": [
        "seasons = [f'{year}-{year + 1}' for year in range(2014, 2023)]\n",
        "print(seasons)"
      ],
      "metadata": {
        "colab": {
          "base_uri": "https://localhost:8080/"
        },
        "id": "lkKV71sD0zox",
        "outputId": "c3d0edd6-ceac-4079-d6aa-1917431b3f0c"
      },
      "execution_count": 11,
      "outputs": [
        {
          "output_type": "stream",
          "name": "stdout",
          "text": [
            "['2014-2015', '2015-2016', '2016-2017', '2017-2018', '2018-2019', '2019-2020', '2020-2021', '2021-2022', '2022-2023']\n"
          ]
        }
      ]
    },
    {
      "cell_type": "code",
      "source": [
        "for L in leagues:\n",
        "    for S in seasons:\n",
        "        counter = 0\n",
        "        for link in links:\n",
        "            if link.find(L + '-' + S) >= 0:\n",
        "                counter += 1\n",
        "        print(L, S, counter)"
      ],
      "metadata": {
        "colab": {
          "base_uri": "https://localhost:8080/"
        },
        "id": "l_EXSPrt0_fc",
        "outputId": "06e9d9b3-5acc-4a73-8ebc-a5d550ea0175"
      },
      "execution_count": 12,
      "outputs": [
        {
          "output_type": "stream",
          "name": "stdout",
          "text": [
            "England-Premier-League 2014-2015 380\n",
            "England-Premier-League 2015-2016 380\n",
            "England-Premier-League 2016-2017 380\n",
            "England-Premier-League 2017-2018 380\n",
            "England-Premier-League 2018-2019 380\n",
            "England-Premier-League 2019-2020 380\n",
            "England-Premier-League 2020-2021 380\n",
            "England-Premier-League 2021-2022 380\n",
            "England-Premier-League 2022-2023 380\n",
            "Spain-LaLiga 2014-2015 380\n",
            "Spain-LaLiga 2015-2016 380\n",
            "Spain-LaLiga 2016-2017 380\n",
            "Spain-LaLiga 2017-2018 380\n",
            "Spain-LaLiga 2018-2019 380\n",
            "Spain-LaLiga 2019-2020 380\n",
            "Spain-LaLiga 2020-2021 380\n",
            "Spain-LaLiga 2021-2022 380\n",
            "Spain-LaLiga 2022-2023 380\n",
            "Italy-Serie-A 2014-2015 380\n",
            "Italy-Serie-A 2015-2016 380\n",
            "Italy-Serie-A 2016-2017 380\n",
            "Italy-Serie-A 2017-2018 380\n",
            "Italy-Serie-A 2018-2019 380\n",
            "Italy-Serie-A 2019-2020 380\n",
            "Italy-Serie-A 2020-2021 380\n",
            "Italy-Serie-A 2021-2022 380\n",
            "Italy-Serie-A 2022-2023 1\n",
            "Germany-Bundesliga 2014-2015 306\n",
            "Germany-Bundesliga 2015-2016 306\n",
            "Germany-Bundesliga 2016-2017 306\n",
            "Germany-Bundesliga 2017-2018 306\n",
            "Germany-Bundesliga 2018-2019 306\n",
            "Germany-Bundesliga 2019-2020 306\n",
            "Germany-Bundesliga 2020-2021 306\n",
            "Germany-Bundesliga 2021-2022 306\n",
            "Germany-Bundesliga 2022-2023 306\n",
            "France-Ligue-1 2014-2015 380\n",
            "France-Ligue-1 2015-2016 380\n",
            "France-Ligue-1 2016-2017 379\n",
            "France-Ligue-1 2017-2018 380\n",
            "France-Ligue-1 2018-2019 380\n",
            "France-Ligue-1 2019-2020 279\n",
            "France-Ligue-1 2020-2021 380\n",
            "France-Ligue-1 2021-2022 380\n",
            "France-Ligue-1 2022-2023 380\n"
          ]
        }
      ]
    },
    {
      "cell_type": "markdown",
      "source": [
        "Italy-Serie-A 2022-2023 season is the only problem."
      ],
      "metadata": {
        "id": "Hg52vwrv2CXp"
      }
    },
    {
      "cell_type": "code",
      "source": [
        "for link in links:\n",
        "    if link.find('Italy-Serie-A-2022-2023') >= 0:\n",
        "        links.remove(link)\n",
        "        break"
      ],
      "metadata": {
        "id": "ZIdOj93q66aH"
      },
      "execution_count": 13,
      "outputs": []
    },
    {
      "cell_type": "code",
      "source": [
        "len(links)"
      ],
      "metadata": {
        "colab": {
          "base_uri": "https://localhost:8080/"
        },
        "id": "YYvtOcll7HVD",
        "outputId": "cc7e5100-5f8e-4d4d-8538-fcfa0ee7604b"
      },
      "execution_count": 14,
      "outputs": [
        {
          "output_type": "execute_result",
          "data": {
            "text/plain": [
              "15952"
            ]
          },
          "metadata": {},
          "execution_count": 14
        }
      ]
    },
    {
      "cell_type": "code",
      "source": [
        "data_upd = pd.read_csv('Octoparse_match_url_upd.csv')"
      ],
      "metadata": {
        "id": "HQilFDOX5cE7"
      },
      "execution_count": 15,
      "outputs": []
    },
    {
      "cell_type": "code",
      "source": [
        "data_upd.head()"
      ],
      "metadata": {
        "colab": {
          "base_uri": "https://localhost:8080/",
          "height": 313
        },
        "id": "ej2wls7L5gOw",
        "outputId": "8f8a57e6-bb07-4428-ceea-b922d7002e9a"
      },
      "execution_count": 16,
      "outputs": [
        {
          "output_type": "execute_result",
          "data": {
            "text/plain": [
              "        Title                                          Title_URL   Time  \\\n",
              "0  Fiorentina  https://1xbet.whoscored.com/Teams/73/Show/Ital...  19:30   \n",
              "1  Fiorentina  https://1xbet.whoscored.com/Teams/73/Show/Ital...  19:30   \n",
              "2  Fiorentina  https://1xbet.whoscored.com/Teams/73/Show/Ital...  19:30   \n",
              "3  Fiorentina  https://1xbet.whoscored.com/Teams/73/Show/Ital...  19:30   \n",
              "4  Fiorentina  https://1xbet.whoscored.com/Teams/73/Show/Ital...  19:30   \n",
              "\n",
              "  Status  rcard                                       col12lg3_URL  col12lg3  \\\n",
              "0     FT    2.0  https://1xbet.whoscored.com/Teams/2889/Show/It...  Sassuolo   \n",
              "1     FT    2.0  https://1xbet.whoscored.com/Teams/2889/Show/It...  Sassuolo   \n",
              "2     FT    2.0  https://1xbet.whoscored.com/Teams/2889/Show/It...  Sassuolo   \n",
              "3     FT    2.0  https://1xbet.whoscored.com/Teams/2889/Show/It...  Sassuolo   \n",
              "4     FT    2.0  https://1xbet.whoscored.com/Teams/2889/Show/It...  Sassuolo   \n",
              "\n",
              "                                         result1_URL result1  \\\n",
              "0  https://1xbet.whoscored.com/Matches/1651749/Li...   1 : 3   \n",
              "1  https://1xbet.whoscored.com/Matches/1651749/Li...   1 : 3   \n",
              "2  https://1xbet.whoscored.com/Matches/1651749/Li...   1 : 3   \n",
              "3  https://1xbet.whoscored.com/Matches/1651749/Li...   1 : 3   \n",
              "4  https://1xbet.whoscored.com/Matches/1651749/Li...   1 : 3   \n",
              "\n",
              "                                       matchlink_URL     matchlink  \\\n",
              "0  https://1xbet.whoscored.com/Matches/1651749/Ma...  Match Report   \n",
              "1  https://1xbet.whoscored.com/Matches/1651749/Ma...  Match Report   \n",
              "2  https://1xbet.whoscored.com/Matches/1651749/Ma...  Match Report   \n",
              "3  https://1xbet.whoscored.com/Matches/1651749/Ma...  Match Report   \n",
              "4  https://1xbet.whoscored.com/Matches/1651749/Ma...  Match Report   \n",
              "\n",
              "       Title1                                         Title_URL1  Time1  \\\n",
              "0  Fiorentina  https://1xbet.whoscored.com/Teams/73/Show/Ital...  19:30   \n",
              "1       Inter  https://1xbet.whoscored.com/Teams/75/Show/Ital...  17:30   \n",
              "2         NaN                                                NaN  20:00   \n",
              "3       Lazio  https://1xbet.whoscored.com/Teams/77/Show/Ital...  20:00   \n",
              "4         NaN                                                NaN  17:30   \n",
              "\n",
              "  Status1  rcard1                                      col12lg3_URL1  \\\n",
              "0      FT     2.0  https://1xbet.whoscored.com/Teams/2889/Show/It...   \n",
              "1      FT     NaN  https://1xbet.whoscored.com/Teams/72/Show/Ital...   \n",
              "2      FT     NaN                                                NaN   \n",
              "3      FT     1.0  https://1xbet.whoscored.com/Teams/272/Show/Ita...   \n",
              "4      FT     NaN                                                NaN   \n",
              "\n",
              "    col12l1                                       result1_URL1 resul1  \\\n",
              "0  Sassuolo  https://1xbet.whoscored.com/Matches/1651749/Li...  1 : 3   \n",
              "1    Torino  https://1xbet.whoscored.com/Matches/1651750/Li...  0 : 1   \n",
              "2       NaN  https://1xbet.whoscored.com/Matches/1651743/Li...  2 : 0   \n",
              "3    Empoli  https://1xbet.whoscored.com/Matches/1651744/Li...  0 : 2   \n",
              "4       NaN  https://1xbet.whoscored.com/Matches/1651747/Li...  2 : 0   \n",
              "\n",
              "                                      matchlink_URL1    matchlink1  \n",
              "0  https://1xbet.whoscored.com/Matches/1651749/Ma...  Match Report  \n",
              "1  https://1xbet.whoscored.com/Matches/1651750/Ma...  Match Report  \n",
              "2  https://1xbet.whoscored.com/Matches/1651743/Ma...  Match Report  \n",
              "3  https://1xbet.whoscored.com/Matches/1651744/Ma...  Match Report  \n",
              "4  https://1xbet.whoscored.com/Matches/1651747/Ma...  Match Report  "
            ],
            "text/html": [
              "\n",
              "  <div id=\"df-d202b275-d632-49e9-8329-2ff9920427ff\" class=\"colab-df-container\">\n",
              "    <div>\n",
              "<style scoped>\n",
              "    .dataframe tbody tr th:only-of-type {\n",
              "        vertical-align: middle;\n",
              "    }\n",
              "\n",
              "    .dataframe tbody tr th {\n",
              "        vertical-align: top;\n",
              "    }\n",
              "\n",
              "    .dataframe thead th {\n",
              "        text-align: right;\n",
              "    }\n",
              "</style>\n",
              "<table border=\"1\" class=\"dataframe\">\n",
              "  <thead>\n",
              "    <tr style=\"text-align: right;\">\n",
              "      <th></th>\n",
              "      <th>Title</th>\n",
              "      <th>Title_URL</th>\n",
              "      <th>Time</th>\n",
              "      <th>Status</th>\n",
              "      <th>rcard</th>\n",
              "      <th>col12lg3_URL</th>\n",
              "      <th>col12lg3</th>\n",
              "      <th>result1_URL</th>\n",
              "      <th>result1</th>\n",
              "      <th>matchlink_URL</th>\n",
              "      <th>matchlink</th>\n",
              "      <th>Title1</th>\n",
              "      <th>Title_URL1</th>\n",
              "      <th>Time1</th>\n",
              "      <th>Status1</th>\n",
              "      <th>rcard1</th>\n",
              "      <th>col12lg3_URL1</th>\n",
              "      <th>col12l1</th>\n",
              "      <th>result1_URL1</th>\n",
              "      <th>resul1</th>\n",
              "      <th>matchlink_URL1</th>\n",
              "      <th>matchlink1</th>\n",
              "    </tr>\n",
              "  </thead>\n",
              "  <tbody>\n",
              "    <tr>\n",
              "      <th>0</th>\n",
              "      <td>Fiorentina</td>\n",
              "      <td>https://1xbet.whoscored.com/Teams/73/Show/Ital...</td>\n",
              "      <td>19:30</td>\n",
              "      <td>FT</td>\n",
              "      <td>2.0</td>\n",
              "      <td>https://1xbet.whoscored.com/Teams/2889/Show/It...</td>\n",
              "      <td>Sassuolo</td>\n",
              "      <td>https://1xbet.whoscored.com/Matches/1651749/Li...</td>\n",
              "      <td>1 : 3</td>\n",
              "      <td>https://1xbet.whoscored.com/Matches/1651749/Ma...</td>\n",
              "      <td>Match Report</td>\n",
              "      <td>Fiorentina</td>\n",
              "      <td>https://1xbet.whoscored.com/Teams/73/Show/Ital...</td>\n",
              "      <td>19:30</td>\n",
              "      <td>FT</td>\n",
              "      <td>2.0</td>\n",
              "      <td>https://1xbet.whoscored.com/Teams/2889/Show/It...</td>\n",
              "      <td>Sassuolo</td>\n",
              "      <td>https://1xbet.whoscored.com/Matches/1651749/Li...</td>\n",
              "      <td>1 : 3</td>\n",
              "      <td>https://1xbet.whoscored.com/Matches/1651749/Ma...</td>\n",
              "      <td>Match Report</td>\n",
              "    </tr>\n",
              "    <tr>\n",
              "      <th>1</th>\n",
              "      <td>Fiorentina</td>\n",
              "      <td>https://1xbet.whoscored.com/Teams/73/Show/Ital...</td>\n",
              "      <td>19:30</td>\n",
              "      <td>FT</td>\n",
              "      <td>2.0</td>\n",
              "      <td>https://1xbet.whoscored.com/Teams/2889/Show/It...</td>\n",
              "      <td>Sassuolo</td>\n",
              "      <td>https://1xbet.whoscored.com/Matches/1651749/Li...</td>\n",
              "      <td>1 : 3</td>\n",
              "      <td>https://1xbet.whoscored.com/Matches/1651749/Ma...</td>\n",
              "      <td>Match Report</td>\n",
              "      <td>Inter</td>\n",
              "      <td>https://1xbet.whoscored.com/Teams/75/Show/Ital...</td>\n",
              "      <td>17:30</td>\n",
              "      <td>FT</td>\n",
              "      <td>NaN</td>\n",
              "      <td>https://1xbet.whoscored.com/Teams/72/Show/Ital...</td>\n",
              "      <td>Torino</td>\n",
              "      <td>https://1xbet.whoscored.com/Matches/1651750/Li...</td>\n",
              "      <td>0 : 1</td>\n",
              "      <td>https://1xbet.whoscored.com/Matches/1651750/Ma...</td>\n",
              "      <td>Match Report</td>\n",
              "    </tr>\n",
              "    <tr>\n",
              "      <th>2</th>\n",
              "      <td>Fiorentina</td>\n",
              "      <td>https://1xbet.whoscored.com/Teams/73/Show/Ital...</td>\n",
              "      <td>19:30</td>\n",
              "      <td>FT</td>\n",
              "      <td>2.0</td>\n",
              "      <td>https://1xbet.whoscored.com/Teams/2889/Show/It...</td>\n",
              "      <td>Sassuolo</td>\n",
              "      <td>https://1xbet.whoscored.com/Matches/1651749/Li...</td>\n",
              "      <td>1 : 3</td>\n",
              "      <td>https://1xbet.whoscored.com/Matches/1651749/Ma...</td>\n",
              "      <td>Match Report</td>\n",
              "      <td>NaN</td>\n",
              "      <td>NaN</td>\n",
              "      <td>20:00</td>\n",
              "      <td>FT</td>\n",
              "      <td>NaN</td>\n",
              "      <td>NaN</td>\n",
              "      <td>NaN</td>\n",
              "      <td>https://1xbet.whoscored.com/Matches/1651743/Li...</td>\n",
              "      <td>2 : 0</td>\n",
              "      <td>https://1xbet.whoscored.com/Matches/1651743/Ma...</td>\n",
              "      <td>Match Report</td>\n",
              "    </tr>\n",
              "    <tr>\n",
              "      <th>3</th>\n",
              "      <td>Fiorentina</td>\n",
              "      <td>https://1xbet.whoscored.com/Teams/73/Show/Ital...</td>\n",
              "      <td>19:30</td>\n",
              "      <td>FT</td>\n",
              "      <td>2.0</td>\n",
              "      <td>https://1xbet.whoscored.com/Teams/2889/Show/It...</td>\n",
              "      <td>Sassuolo</td>\n",
              "      <td>https://1xbet.whoscored.com/Matches/1651749/Li...</td>\n",
              "      <td>1 : 3</td>\n",
              "      <td>https://1xbet.whoscored.com/Matches/1651749/Ma...</td>\n",
              "      <td>Match Report</td>\n",
              "      <td>Lazio</td>\n",
              "      <td>https://1xbet.whoscored.com/Teams/77/Show/Ital...</td>\n",
              "      <td>20:00</td>\n",
              "      <td>FT</td>\n",
              "      <td>1.0</td>\n",
              "      <td>https://1xbet.whoscored.com/Teams/272/Show/Ita...</td>\n",
              "      <td>Empoli</td>\n",
              "      <td>https://1xbet.whoscored.com/Matches/1651744/Li...</td>\n",
              "      <td>0 : 2</td>\n",
              "      <td>https://1xbet.whoscored.com/Matches/1651744/Ma...</td>\n",
              "      <td>Match Report</td>\n",
              "    </tr>\n",
              "    <tr>\n",
              "      <th>4</th>\n",
              "      <td>Fiorentina</td>\n",
              "      <td>https://1xbet.whoscored.com/Teams/73/Show/Ital...</td>\n",
              "      <td>19:30</td>\n",
              "      <td>FT</td>\n",
              "      <td>2.0</td>\n",
              "      <td>https://1xbet.whoscored.com/Teams/2889/Show/It...</td>\n",
              "      <td>Sassuolo</td>\n",
              "      <td>https://1xbet.whoscored.com/Matches/1651749/Li...</td>\n",
              "      <td>1 : 3</td>\n",
              "      <td>https://1xbet.whoscored.com/Matches/1651749/Ma...</td>\n",
              "      <td>Match Report</td>\n",
              "      <td>NaN</td>\n",
              "      <td>NaN</td>\n",
              "      <td>17:30</td>\n",
              "      <td>FT</td>\n",
              "      <td>NaN</td>\n",
              "      <td>NaN</td>\n",
              "      <td>NaN</td>\n",
              "      <td>https://1xbet.whoscored.com/Matches/1651747/Li...</td>\n",
              "      <td>2 : 0</td>\n",
              "      <td>https://1xbet.whoscored.com/Matches/1651747/Ma...</td>\n",
              "      <td>Match Report</td>\n",
              "    </tr>\n",
              "  </tbody>\n",
              "</table>\n",
              "</div>\n",
              "    <div class=\"colab-df-buttons\">\n",
              "\n",
              "  <div class=\"colab-df-container\">\n",
              "    <button class=\"colab-df-convert\" onclick=\"convertToInteractive('df-d202b275-d632-49e9-8329-2ff9920427ff')\"\n",
              "            title=\"Convert this dataframe to an interactive table.\"\n",
              "            style=\"display:none;\">\n",
              "\n",
              "  <svg xmlns=\"http://www.w3.org/2000/svg\" height=\"24px\" viewBox=\"0 -960 960 960\">\n",
              "    <path d=\"M120-120v-720h720v720H120Zm60-500h600v-160H180v160Zm220 220h160v-160H400v160Zm0 220h160v-160H400v160ZM180-400h160v-160H180v160Zm440 0h160v-160H620v160ZM180-180h160v-160H180v160Zm440 0h160v-160H620v160Z\"/>\n",
              "  </svg>\n",
              "    </button>\n",
              "\n",
              "  <style>\n",
              "    .colab-df-container {\n",
              "      display:flex;\n",
              "      gap: 12px;\n",
              "    }\n",
              "\n",
              "    .colab-df-convert {\n",
              "      background-color: #E8F0FE;\n",
              "      border: none;\n",
              "      border-radius: 50%;\n",
              "      cursor: pointer;\n",
              "      display: none;\n",
              "      fill: #1967D2;\n",
              "      height: 32px;\n",
              "      padding: 0 0 0 0;\n",
              "      width: 32px;\n",
              "    }\n",
              "\n",
              "    .colab-df-convert:hover {\n",
              "      background-color: #E2EBFA;\n",
              "      box-shadow: 0px 1px 2px rgba(60, 64, 67, 0.3), 0px 1px 3px 1px rgba(60, 64, 67, 0.15);\n",
              "      fill: #174EA6;\n",
              "    }\n",
              "\n",
              "    .colab-df-buttons div {\n",
              "      margin-bottom: 4px;\n",
              "    }\n",
              "\n",
              "    [theme=dark] .colab-df-convert {\n",
              "      background-color: #3B4455;\n",
              "      fill: #D2E3FC;\n",
              "    }\n",
              "\n",
              "    [theme=dark] .colab-df-convert:hover {\n",
              "      background-color: #434B5C;\n",
              "      box-shadow: 0px 1px 3px 1px rgba(0, 0, 0, 0.15);\n",
              "      filter: drop-shadow(0px 1px 2px rgba(0, 0, 0, 0.3));\n",
              "      fill: #FFFFFF;\n",
              "    }\n",
              "  </style>\n",
              "\n",
              "    <script>\n",
              "      const buttonEl =\n",
              "        document.querySelector('#df-d202b275-d632-49e9-8329-2ff9920427ff button.colab-df-convert');\n",
              "      buttonEl.style.display =\n",
              "        google.colab.kernel.accessAllowed ? 'block' : 'none';\n",
              "\n",
              "      async function convertToInteractive(key) {\n",
              "        const element = document.querySelector('#df-d202b275-d632-49e9-8329-2ff9920427ff');\n",
              "        const dataTable =\n",
              "          await google.colab.kernel.invokeFunction('convertToInteractive',\n",
              "                                                    [key], {});\n",
              "        if (!dataTable) return;\n",
              "\n",
              "        const docLinkHtml = 'Like what you see? Visit the ' +\n",
              "          '<a target=\"_blank\" href=https://colab.research.google.com/notebooks/data_table.ipynb>data table notebook</a>'\n",
              "          + ' to learn more about interactive tables.';\n",
              "        element.innerHTML = '';\n",
              "        dataTable['output_type'] = 'display_data';\n",
              "        await google.colab.output.renderOutput(dataTable, element);\n",
              "        const docLink = document.createElement('div');\n",
              "        docLink.innerHTML = docLinkHtml;\n",
              "        element.appendChild(docLink);\n",
              "      }\n",
              "    </script>\n",
              "  </div>\n",
              "\n",
              "\n",
              "<div id=\"df-508c2d4b-b576-4a99-916a-b1d7cf275da2\">\n",
              "  <button class=\"colab-df-quickchart\" onclick=\"quickchart('df-508c2d4b-b576-4a99-916a-b1d7cf275da2')\"\n",
              "            title=\"Suggest charts\"\n",
              "            style=\"display:none;\">\n",
              "\n",
              "<svg xmlns=\"http://www.w3.org/2000/svg\" height=\"24px\"viewBox=\"0 0 24 24\"\n",
              "     width=\"24px\">\n",
              "    <g>\n",
              "        <path d=\"M19 3H5c-1.1 0-2 .9-2 2v14c0 1.1.9 2 2 2h14c1.1 0 2-.9 2-2V5c0-1.1-.9-2-2-2zM9 17H7v-7h2v7zm4 0h-2V7h2v10zm4 0h-2v-4h2v4z\"/>\n",
              "    </g>\n",
              "</svg>\n",
              "  </button>\n",
              "\n",
              "<style>\n",
              "  .colab-df-quickchart {\n",
              "      --bg-color: #E8F0FE;\n",
              "      --fill-color: #1967D2;\n",
              "      --hover-bg-color: #E2EBFA;\n",
              "      --hover-fill-color: #174EA6;\n",
              "      --disabled-fill-color: #AAA;\n",
              "      --disabled-bg-color: #DDD;\n",
              "  }\n",
              "\n",
              "  [theme=dark] .colab-df-quickchart {\n",
              "      --bg-color: #3B4455;\n",
              "      --fill-color: #D2E3FC;\n",
              "      --hover-bg-color: #434B5C;\n",
              "      --hover-fill-color: #FFFFFF;\n",
              "      --disabled-bg-color: #3B4455;\n",
              "      --disabled-fill-color: #666;\n",
              "  }\n",
              "\n",
              "  .colab-df-quickchart {\n",
              "    background-color: var(--bg-color);\n",
              "    border: none;\n",
              "    border-radius: 50%;\n",
              "    cursor: pointer;\n",
              "    display: none;\n",
              "    fill: var(--fill-color);\n",
              "    height: 32px;\n",
              "    padding: 0;\n",
              "    width: 32px;\n",
              "  }\n",
              "\n",
              "  .colab-df-quickchart:hover {\n",
              "    background-color: var(--hover-bg-color);\n",
              "    box-shadow: 0 1px 2px rgba(60, 64, 67, 0.3), 0 1px 3px 1px rgba(60, 64, 67, 0.15);\n",
              "    fill: var(--button-hover-fill-color);\n",
              "  }\n",
              "\n",
              "  .colab-df-quickchart-complete:disabled,\n",
              "  .colab-df-quickchart-complete:disabled:hover {\n",
              "    background-color: var(--disabled-bg-color);\n",
              "    fill: var(--disabled-fill-color);\n",
              "    box-shadow: none;\n",
              "  }\n",
              "\n",
              "  .colab-df-spinner {\n",
              "    border: 2px solid var(--fill-color);\n",
              "    border-color: transparent;\n",
              "    border-bottom-color: var(--fill-color);\n",
              "    animation:\n",
              "      spin 1s steps(1) infinite;\n",
              "  }\n",
              "\n",
              "  @keyframes spin {\n",
              "    0% {\n",
              "      border-color: transparent;\n",
              "      border-bottom-color: var(--fill-color);\n",
              "      border-left-color: var(--fill-color);\n",
              "    }\n",
              "    20% {\n",
              "      border-color: transparent;\n",
              "      border-left-color: var(--fill-color);\n",
              "      border-top-color: var(--fill-color);\n",
              "    }\n",
              "    30% {\n",
              "      border-color: transparent;\n",
              "      border-left-color: var(--fill-color);\n",
              "      border-top-color: var(--fill-color);\n",
              "      border-right-color: var(--fill-color);\n",
              "    }\n",
              "    40% {\n",
              "      border-color: transparent;\n",
              "      border-right-color: var(--fill-color);\n",
              "      border-top-color: var(--fill-color);\n",
              "    }\n",
              "    60% {\n",
              "      border-color: transparent;\n",
              "      border-right-color: var(--fill-color);\n",
              "    }\n",
              "    80% {\n",
              "      border-color: transparent;\n",
              "      border-right-color: var(--fill-color);\n",
              "      border-bottom-color: var(--fill-color);\n",
              "    }\n",
              "    90% {\n",
              "      border-color: transparent;\n",
              "      border-bottom-color: var(--fill-color);\n",
              "    }\n",
              "  }\n",
              "</style>\n",
              "\n",
              "  <script>\n",
              "    async function quickchart(key) {\n",
              "      const quickchartButtonEl =\n",
              "        document.querySelector('#' + key + ' button');\n",
              "      quickchartButtonEl.disabled = true;  // To prevent multiple clicks.\n",
              "      quickchartButtonEl.classList.add('colab-df-spinner');\n",
              "      try {\n",
              "        const charts = await google.colab.kernel.invokeFunction(\n",
              "            'suggestCharts', [key], {});\n",
              "      } catch (error) {\n",
              "        console.error('Error during call to suggestCharts:', error);\n",
              "      }\n",
              "      quickchartButtonEl.classList.remove('colab-df-spinner');\n",
              "      quickchartButtonEl.classList.add('colab-df-quickchart-complete');\n",
              "    }\n",
              "    (() => {\n",
              "      let quickchartButtonEl =\n",
              "        document.querySelector('#df-508c2d4b-b576-4a99-916a-b1d7cf275da2 button');\n",
              "      quickchartButtonEl.style.display =\n",
              "        google.colab.kernel.accessAllowed ? 'block' : 'none';\n",
              "    })();\n",
              "  </script>\n",
              "</div>\n",
              "    </div>\n",
              "  </div>\n"
            ]
          },
          "metadata": {},
          "execution_count": 16
        }
      ]
    },
    {
      "cell_type": "code",
      "source": [
        "links_upd = list(data_upd['matchlink_URL1'].unique())"
      ],
      "metadata": {
        "id": "2TlTbjpw5kVu"
      },
      "execution_count": 17,
      "outputs": []
    },
    {
      "cell_type": "code",
      "source": [
        "len(links_upd)"
      ],
      "metadata": {
        "colab": {
          "base_uri": "https://localhost:8080/"
        },
        "id": "hm8dXpmQ5oIg",
        "outputId": "2fe6a56f-661d-4d67-80ae-3627083496bd"
      },
      "execution_count": 18,
      "outputs": [
        {
          "output_type": "execute_result",
          "data": {
            "text/plain": [
              "380"
            ]
          },
          "metadata": {},
          "execution_count": 18
        }
      ]
    },
    {
      "cell_type": "code",
      "source": [
        "links_upd = [link for link in links_upd if isinstance(link, str)]"
      ],
      "metadata": {
        "id": "gyE8SRD-5r17"
      },
      "execution_count": 19,
      "outputs": []
    },
    {
      "cell_type": "code",
      "source": [
        "len(links_upd)"
      ],
      "metadata": {
        "colab": {
          "base_uri": "https://localhost:8080/"
        },
        "id": "jOXv57dL5uRE",
        "outputId": "9ffebb5a-6737-461a-d87f-2d4dba508047"
      },
      "execution_count": 20,
      "outputs": [
        {
          "output_type": "execute_result",
          "data": {
            "text/plain": [
              "380"
            ]
          },
          "metadata": {},
          "execution_count": 20
        }
      ]
    },
    {
      "cell_type": "code",
      "source": [
        "links += links_upd"
      ],
      "metadata": {
        "id": "scUNf2Jf5y80"
      },
      "execution_count": 21,
      "outputs": []
    },
    {
      "cell_type": "code",
      "source": [
        "len(links)"
      ],
      "metadata": {
        "colab": {
          "base_uri": "https://localhost:8080/"
        },
        "id": "V94ttKdT51E-",
        "outputId": "8d3ff6de-40c1-478e-ac23-6e726fcc0a4f"
      },
      "execution_count": 22,
      "outputs": [
        {
          "output_type": "execute_result",
          "data": {
            "text/plain": [
              "16332"
            ]
          },
          "metadata": {},
          "execution_count": 22
        }
      ]
    },
    {
      "cell_type": "code",
      "source": [
        "for L in leagues:\n",
        "    for S in seasons:\n",
        "        counter = 0\n",
        "        for link in links:\n",
        "            if link.find(L + '-' + S) >= 0:\n",
        "                counter += 1\n",
        "        print(L, S, counter)"
      ],
      "metadata": {
        "colab": {
          "base_uri": "https://localhost:8080/"
        },
        "id": "E0E5xpZv6JIu",
        "outputId": "f7a0f2c2-488a-4bc0-abef-1bc446ddcbfd"
      },
      "execution_count": 23,
      "outputs": [
        {
          "output_type": "stream",
          "name": "stdout",
          "text": [
            "England-Premier-League 2014-2015 380\n",
            "England-Premier-League 2015-2016 380\n",
            "England-Premier-League 2016-2017 380\n",
            "England-Premier-League 2017-2018 380\n",
            "England-Premier-League 2018-2019 380\n",
            "England-Premier-League 2019-2020 380\n",
            "England-Premier-League 2020-2021 380\n",
            "England-Premier-League 2021-2022 380\n",
            "England-Premier-League 2022-2023 380\n",
            "Spain-LaLiga 2014-2015 380\n",
            "Spain-LaLiga 2015-2016 380\n",
            "Spain-LaLiga 2016-2017 380\n",
            "Spain-LaLiga 2017-2018 380\n",
            "Spain-LaLiga 2018-2019 380\n",
            "Spain-LaLiga 2019-2020 380\n",
            "Spain-LaLiga 2020-2021 380\n",
            "Spain-LaLiga 2021-2022 380\n",
            "Spain-LaLiga 2022-2023 380\n",
            "Italy-Serie-A 2014-2015 380\n",
            "Italy-Serie-A 2015-2016 380\n",
            "Italy-Serie-A 2016-2017 380\n",
            "Italy-Serie-A 2017-2018 380\n",
            "Italy-Serie-A 2018-2019 380\n",
            "Italy-Serie-A 2019-2020 380\n",
            "Italy-Serie-A 2020-2021 380\n",
            "Italy-Serie-A 2021-2022 380\n",
            "Italy-Serie-A 2022-2023 380\n",
            "Germany-Bundesliga 2014-2015 306\n",
            "Germany-Bundesliga 2015-2016 306\n",
            "Germany-Bundesliga 2016-2017 306\n",
            "Germany-Bundesliga 2017-2018 306\n",
            "Germany-Bundesliga 2018-2019 306\n",
            "Germany-Bundesliga 2019-2020 306\n",
            "Germany-Bundesliga 2020-2021 306\n",
            "Germany-Bundesliga 2021-2022 306\n",
            "Germany-Bundesliga 2022-2023 306\n",
            "France-Ligue-1 2014-2015 380\n",
            "France-Ligue-1 2015-2016 380\n",
            "France-Ligue-1 2016-2017 379\n",
            "France-Ligue-1 2017-2018 380\n",
            "France-Ligue-1 2018-2019 380\n",
            "France-Ligue-1 2019-2020 279\n",
            "France-Ligue-1 2020-2021 380\n",
            "France-Ligue-1 2021-2022 380\n",
            "France-Ligue-1 2022-2023 380\n"
          ]
        }
      ]
    },
    {
      "cell_type": "markdown",
      "source": [
        "Now it is good. Save all these links. We need to replace *MatchReport* with *LiveStatistics*."
      ],
      "metadata": {
        "id": "Wmflqcfv7QFc"
      }
    },
    {
      "cell_type": "code",
      "source": [
        "for L in leagues:\n",
        "    file = open(L + '_links.txt', 'w')\n",
        "\n",
        "    for link in links:\n",
        "        if link.find(L) >= 0:\n",
        "            file.write(link.replace('MatchReport', 'LiveStatistics') + '\\n')\n",
        "\n",
        "    file.close()\n",
        "    print(f'{L} done')"
      ],
      "metadata": {
        "colab": {
          "base_uri": "https://localhost:8080/"
        },
        "id": "nrqXFhGS730O",
        "outputId": "6aa144ea-2910-4ab8-ac0c-c64e842e1bf4"
      },
      "execution_count": 25,
      "outputs": [
        {
          "output_type": "stream",
          "name": "stdout",
          "text": [
            "England-Premier-League done\n",
            "Spain-LaLiga done\n",
            "Italy-Serie-A done\n",
            "Germany-Bundesliga done\n",
            "France-Ligue-1 done\n"
          ]
        }
      ]
    }
  ]
}